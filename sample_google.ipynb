{
  "nbformat": 4,
  "nbformat_minor": 0,
  "metadata": {
    "colab": {
      "name": "sample_google.ipynb",
      "provenance": [],
      "collapsed_sections": [],
      "authorship_tag": "ABX9TyOi8x/fwF8A4ELmmJfb//gV",
      "include_colab_link": true
    },
    "kernelspec": {
      "name": "python3",
      "display_name": "Python 3"
    },
    "language_info": {
      "name": "python"
    }
  },
  "cells": [
    {
      "cell_type": "markdown",
      "metadata": {
        "id": "view-in-github",
        "colab_type": "text"
      },
      "source": [
        "<a href=\"https://colab.research.google.com/github/k650250/estatapi/blob/main/sample_google.ipynb\" target=\"_parent\"><img src=\"https://colab.research.google.com/assets/colab-badge.svg\" alt=\"Open In Colab\"/></a>"
      ]
    },
    {
      "cell_type": "markdown",
      "metadata": {
        "id": "1Wo4_VFssY1G"
      },
      "source": [
        "# estatapiモジュールの使用例（Google Colaboratory版）\n",
        "\n",
        "冒頭の「Open in Colab」をクリックし、「ドライブにコピー」コマンドをクリックしてご使用ください。\n"
      ]
    },
    {
      "cell_type": "markdown",
      "metadata": {
        "id": "VBBbXmA6kFcU"
      },
      "source": [
        "## 「アプリケーションID」と「API リクエスト URL」を指定\n",
        "\n",
        "※[e-Statのユーザ登録](https://www.e-stat.go.jp/mypage/user/preregister)を行い、マイページにログインし、API機能(アプリケーションID発行)から、アプリケーションIDを取得してください。"
      ]
    },
    {
      "cell_type": "code",
      "metadata": {
        "id": "CGVjzfYEX8Vz"
      },
      "source": [
        "# アプリケーションID\n",
        "appId = 'ここに取得したアプリケーションIDを貼り付けてください'\n",
        "\n",
        "# API リクエスト URL - 平成22年国勢調査 https://www.e-stat.go.jp/stat-search/database?statdisp_id=0003410439\n",
        "url = 'http://api.e-stat.go.jp/rest/3.0/app/getStatsData?appId=&lang=J&statsDataId=0003410439&metaGetFlg=Y&cntGetFlg=N&explanationGetFlg=Y&annotationGetFlg=Y&sectionHeaderFlg=1'"
      ],
      "execution_count": null,
      "outputs": []
    },
    {
      "cell_type": "markdown",
      "metadata": {
        "id": "U-h_K-bwrxx0"
      },
      "source": [
        "## モジュール（estatapi.py）をダウンロード"
      ]
    },
    {
      "cell_type": "code",
      "metadata": {
        "id": "pAE72J2cX9i7"
      },
      "source": [
        "!wget --no-check-certificate https://raw.githubusercontent.com/k650250/estatapi/main/estatapi.py"
      ],
      "execution_count": null,
      "outputs": []
    },
    {
      "cell_type": "markdown",
      "metadata": {
        "id": "v8H42nNQqLxV"
      },
      "source": [
        "## モジュール／ライブラリを読み込む"
      ]
    },
    {
      "cell_type": "code",
      "metadata": {
        "id": "XEubVeNiX9sq"
      },
      "source": [
        "import estatapi\n",
        "import numpy as np\n",
        "import pandas as pd"
      ],
      "execution_count": null,
      "outputs": []
    },
    {
      "cell_type": "markdown",
      "metadata": {
        "id": "wVmftPsLp0Wg"
      },
      "source": [
        "## APIを介してデータを取得"
      ]
    },
    {
      "cell_type": "code",
      "metadata": {
        "id": "9jPTSrrUX9zK"
      },
      "source": [
        "df = estatapi.StatsDataForPandas(url, appId).to_df()\n",
        "\n",
        "df"
      ],
      "execution_count": null,
      "outputs": []
    },
    {
      "cell_type": "markdown",
      "metadata": {
        "id": "N7VXe8wmp-1z"
      },
      "source": [
        "## 必要なデータを選択"
      ]
    },
    {
      "cell_type": "code",
      "metadata": {
        "id": "jouO8iXuX96m"
      },
      "source": [
        "df = df.loc[(df[\"時間軸（調査年）\"] == \"2010年\") & (df[\"@unit\"] == \"人\") & (\n",
        "    (df[\"年齢（各歳）年齢不詳，再掲有り2010\"] == \"総数\") |\n",
        "    (df[\"年齢（各歳）年齢不詳，再掲有り2010\"] == \"０歳\") |\n",
        "    (df[\"年齢（各歳）年齢不詳，再掲有り2010\"] == \"１歳\") |\n",
        "    (df[\"年齢（各歳）年齢不詳，再掲有り2010\"] == \"２歳\")), :].astype({\"$\": np.int})\n",
        "\n",
        "df"
      ],
      "execution_count": null,
      "outputs": []
    },
    {
      "cell_type": "markdown",
      "metadata": {
        "id": "0us20RI6qFQ8"
      },
      "source": [
        "## 目的の統計表を表示"
      ]
    },
    {
      "cell_type": "code",
      "metadata": {
        "id": "3g8Wwr2EX-Ji"
      },
      "source": [
        "df = pd.pivot_table(data=df,\n",
        "                    index=\"男女別2010\",\n",
        "                    columns=\"年齢（各歳）年齢不詳，再掲有り2010\",\n",
        "                    values=\"$\").loc[(\"総数（男女別）\", \"男\", \"女\"),\n",
        "                                    (\"総数\", \"０歳\", \"１歳\", \"２歳\")]\n",
        "df.index = (\"全国\", \"男\", \"女\")\n",
        "df.columns = (\"総数（年齢）\", \"０歳\", \"１歳\", \"２歳\")\n",
        "with pd.option_context('display.float_format', \"{:,.0f}\".format):\n",
        "    display(df.astype(np.float))"
      ],
      "execution_count": null,
      "outputs": []
    }
  ]
}